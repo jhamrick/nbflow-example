{
 "cells": [
  {
   "cell_type": "code",
   "execution_count": null,
   "metadata": {
    "collapsed": true
   },
   "outputs": [],
   "source": [
    "__depends__ = [\"../results/human_averages.csv\", \"../results/model.csv\"]\n",
    "__dest__ = [\"../figures/model_v_human.pdf\", \"../results/model_v_human.tex\"]"
   ]
  },
  {
   "cell_type": "code",
   "execution_count": null,
   "metadata": {
    "collapsed": true
   },
   "outputs": [],
   "source": [
    "%matplotlib inline\n",
    "import numpy as np\n",
    "import pandas as pd\n",
    "import scipy.optimize\n",
    "import matplotlib.pyplot as plt\n",
    "import seaborn as sns\n",
    "import util"
   ]
  },
  {
   "cell_type": "code",
   "execution_count": null,
   "metadata": {
    "collapsed": false
   },
   "outputs": [],
   "source": [
    "# Load in the human data\n",
    "human = pd.read_csv(__depends__[0]).set_index('stimulus').sort_index()\n",
    "human.head()"
   ]
  },
  {
   "cell_type": "code",
   "execution_count": null,
   "metadata": {
    "collapsed": false
   },
   "outputs": [],
   "source": [
    "# Load in the model data\n",
    "model = pd.read_csv(__depends__[1]).set_index('stimulus').sort_index()\n",
    "model.head()"
   ]
  },
  {
   "cell_type": "code",
   "execution_count": null,
   "metadata": {
    "collapsed": false
   },
   "outputs": [],
   "source": [
    "# Fit the model to the human data using logistic regression\n",
    "def f(beta):\n",
    "    yp = util.sigmoid(model[\"y\"], beta)\n",
    "    err = np.sqrt(np.sum((yp - human[\"mean\"]) ** 2))\n",
    "    return err\n",
    "\n",
    "res = scipy.optimize.minimize_scalar(f)\n",
    "beta = res['x']\n",
    "beta"
   ]
  },
  {
   "cell_type": "code",
   "execution_count": null,
   "metadata": {
    "collapsed": false
   },
   "outputs": [],
   "source": [
    "# Compute predictions for the fitted model\n",
    "fitted_model = util.sigmoid(model[\"y\"], beta)\n",
    "fitted_model.head()"
   ]
  },
  {
   "cell_type": "code",
   "execution_count": null,
   "metadata": {
    "collapsed": false
   },
   "outputs": [],
   "source": [
    "# Compute the correlation between the raw model results and average human responses\n",
    "corrs = util.bootcorr(model[\"y\"], human[\"mean\"])\n",
    "corrs.head()"
   ]
  },
  {
   "cell_type": "code",
   "execution_count": null,
   "metadata": {
    "collapsed": false
   },
   "outputs": [],
   "source": [
    "# Compute the correlation between the fitted model results and the average human responses\n",
    "fitted_corrs = util.bootcorr(fitted_model, human[\"mean\"])\n",
    "fitted_corrs.head()"
   ]
  },
  {
   "cell_type": "code",
   "execution_count": null,
   "metadata": {
    "collapsed": false
   },
   "outputs": [],
   "source": [
    "# Plot both the raw and fitted models against human data\n",
    "sns.set_style(\"white\")\n",
    "sns.set_context(\"talk\")\n",
    "\n",
    "fig, (ax1, ax2) = plt.subplots(1, 2, sharey=True)\n",
    "\n",
    "ax1.errorbar(\n",
    "    model[\"y\"], human[\"mean\"], \n",
    "    yerr=[human[\"lerr\"],  human[\"uerr\"]], \n",
    "    marker='o', linestyle='')\n",
    "ax1.set_xlabel(\"Raw model responses\")\n",
    "ax1.set_ylabel(\"Human responses\")\n",
    "ax1.set_xlim(0, 1)\n",
    "ax1.set_ylim(0, 1)\n",
    "corrstr = r\"$r={corr:.2f},\\ 95\\%\\ \\mathrm{{CI}}\\ [{lower:.2f}, {upper:.2f}]$\".format(**corrs)\n",
    "ax1.text(1, 0.02, corrstr, horizontalalignment='right')\n",
    "\n",
    "ax2.errorbar(\n",
    "    fitted_model, human[\"mean\"], \n",
    "    yerr=[human[\"lerr\"],  human[\"uerr\"]], \n",
    "    marker='o', linestyle='')\n",
    "ax2.set_xlabel(\"Fitted model responses\")\n",
    "ax2.set_xlim(0, 1)\n",
    "corrstr = r\"$r={corr:.2f},\\ 95\\%\\ \\mathrm{{CI}}\\ [{lower:.2f}, {upper:.2f}]$\".format(**fitted_corrs)\n",
    "ax2.text(1, 0.02, corrstr, horizontalalignment='right')\n",
    "\n",
    "sns.despine()\n",
    "fig.set_size_inches(16, 6)\n",
    "plt.tight_layout()\n",
    "plt.savefig(__dest__[0])"
   ]
  },
  {
   "cell_type": "code",
   "execution_count": null,
   "metadata": {
    "collapsed": false
   },
   "outputs": [],
   "source": [
    "# Save out the correlations and fitted parameter values \n",
    "# as LaTeX commands for use in the paper\n",
    "def newcommand(name, val):\n",
    "    fmt = \"\\\\newcommand{{\\\\{name}}}[0]{{{action}}}\"\n",
    "    cmd = fmt.format(name=name, action=val)\n",
    "    print(cmd)\n",
    "    return cmd + \"\\n\"\n",
    "\n",
    "latex_pearsonr = r\"r={corr:.2f},\\ 95\\%\\ \\mathrm{{CI}}\\ [{lower:.2f}, {upper:.2f}]\"\n",
    "latex_beta = r\"\\beta={beta:.2f}\"\n",
    "\n",
    "cmds = [\n",
    "    newcommand(\n",
    "        \"ModelVHumanCorr\",\n",
    "        latex_pearsonr.format(**corrs)),\n",
    "    newcommand(\n",
    "        \"FittedModelVHumanCorr\",\n",
    "        latex_pearsonr.format(**fitted_corrs)),\n",
    "    newcommand(\n",
    "        \"FittedBeta\",\n",
    "        latex_beta.format(beta=beta))\n",
    "]\n",
    "\n",
    "with open(__dest__[1], \"w\") as fh:\n",
    "    for cmd in cmds:\n",
    "        fh.write(cmd)"
   ]
  }
 ],
 "metadata": {
  "kernelspec": {
   "display_name": "Python 3",
   "language": "python",
   "name": "python3"
  },
  "language_info": {
   "codemirror_mode": {
    "name": "ipython",
    "version": 3
   },
   "file_extension": ".py",
   "mimetype": "text/x-python",
   "name": "python",
   "nbconvert_exporter": "python",
   "pygments_lexer": "ipython3",
   "version": "3.5.1"
  }
 },
 "nbformat": 4,
 "nbformat_minor": 0
}
