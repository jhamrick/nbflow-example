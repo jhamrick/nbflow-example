{
 "cells": [
  {
   "cell_type": "code",
   "execution_count": null,
   "metadata": {
    "jupyter": {
     "outputs_hidden": true
    }
   },
   "outputs": [],
   "source": [
    "__depends__ = [\"../results/human.csv\"]\n",
    "__dest__ = [\"../results/human_averages.csv\", \"../figures/human_averages.pdf\"]"
   ]
  },
  {
   "cell_type": "code",
   "execution_count": null,
   "metadata": {
    "jupyter": {
     "outputs_hidden": true
    }
   },
   "outputs": [],
   "source": [
    "%matplotlib inline\n",
    "import pandas as pd\n",
    "import matplotlib.pyplot as plt\n",
    "import seaborn as sns\n",
    "import numpy as np\n",
    "import util\n",
    "import os\n",
    "np.random.seed(1)"
   ]
  },
  {
   "cell_type": "code",
   "execution_count": null,
   "metadata": {
    "jupyter": {
     "outputs_hidden": false
    }
   },
   "outputs": [],
   "source": [
    "# Load in the data\n",
    "data = pd.read_csv(__depends__[0])\n",
    "data.head()"
   ]
  },
  {
   "cell_type": "code",
   "execution_count": null,
   "metadata": {
    "jupyter": {
     "outputs_hidden": false
    }
   },
   "outputs": [],
   "source": [
    "# Compute the mean for each stimulus, with bootstrapped 95% confidence intervals\n",
    "means = data.groupby([\"stimulus\", \"x\"])[\"y\"].apply(util.bootmean).unstack().reset_index(\"x\")\n",
    "means.to_csv(__dest__[0])\n",
    "means.head()"
   ]
  },
  {
   "cell_type": "code",
   "execution_count": null,
   "metadata": {
    "jupyter": {
     "outputs_hidden": false
    }
   },
   "outputs": [],
   "source": [
    "# Compute the correlation between the stimulus intensity (x) and the mean responses, with\n",
    "# bootstrapped 95% confidence intervals\n",
    "corrs = util.bootcorr(means[\"x\"], means[\"mean\"])\n",
    "corrs.head()"
   ]
  },
  {
   "cell_type": "code",
   "execution_count": null,
   "metadata": {
    "jupyter": {
     "outputs_hidden": false
    }
   },
   "outputs": [],
   "source": [
    "# Plot the averaged human data with error bars plus correlation\n",
    "sns.set_style(\"white\")\n",
    "sns.set_context(\"talk\")\n",
    "\n",
    "fig, ax = plt.subplots()\n",
    "ax.errorbar(\n",
    "    means[\"x\"], means[\"mean\"], \n",
    "    yerr=[means[\"lerr\"], means[\"uerr\"]], \n",
    "    marker='o', linestyle='')\n",
    "ax.set_xlabel(\"Stimulus intensity\")\n",
    "ax.set_ylabel(\"Mean response\")\n",
    "corrstr = r\"$r={corr:.2f},\\ 95\\%\\ \\mathrm{{CI}}\\ [{lower:.2f}, {upper:.2f}]$\".format(**corrs)\n",
    "ax.text(1, 0.02, corrstr, horizontalalignment='right')\n",
    "\n",
    "sns.despine()\n",
    "fig.set_size_inches(8, 6)\n",
    "\n",
    "if not os.path.exists(os.path.dirname(__dest__[1])):\n",
    "    os.makedirs(os.path.dirname(__dest__[1]))\n",
    "plt.savefig(__dest__[1])"
   ]
  }
 ],
 "metadata": {
  "hide_input": false,
  "kernelspec": {
   "display_name": "Python 3",
   "language": "python",
   "name": "python3"
  },
  "language_info": {
   "codemirror_mode": {
    "name": "ipython",
    "version": 3
   },
   "file_extension": ".py",
   "mimetype": "text/x-python",
   "name": "python",
   "nbconvert_exporter": "python",
   "pygments_lexer": "ipython3",
   "version": "3.6.6"
  },
  "toc": {
   "base_numbering": 1,
   "nav_menu": {},
   "number_sections": true,
   "sideBar": true,
   "skip_h1_title": false,
   "title_cell": "Table of Contents",
   "title_sidebar": "Contents",
   "toc_cell": false,
   "toc_position": {},
   "toc_section_display": true,
   "toc_window_display": false
  }
 },
 "nbformat": 4,
 "nbformat_minor": 4
}
