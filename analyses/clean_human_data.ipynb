{
 "cells": [
  {
   "cell_type": "code",
   "execution_count": 1,
   "metadata": {
    "collapsed": true
   },
   "outputs": [],
   "source": [
    "__depends__ = [\"../data/human_raw.json\"]\n",
    "__dest__ = \"../results/human.csv\""
   ]
  },
  {
   "cell_type": "code",
   "execution_count": 2,
   "metadata": {
    "collapsed": true
   },
   "outputs": [],
   "source": [
    "import pandas as pd\n",
    "import json\n",
    "import datetime\n",
    "import os"
   ]
  },
  {
   "cell_type": "code",
   "execution_count": 3,
   "metadata": {
    "collapsed": false
   },
   "outputs": [
    {
     "data": {
      "text/plain": [
       "{'stimulus': 0,\n",
       " 'rt': 712.3117048408211,\n",
       " 'timestamp': 1468341476.981191,\n",
       " 'x': 0.0,\n",
       " 'trial': 33,\n",
       " 'y': 0.033065042123708886,\n",
       " 'participant': 0}"
      ]
     },
     "execution_count": 3,
     "metadata": {},
     "output_type": "execute_result"
    }
   ],
   "source": [
    "# Load the JSON formatted data\n",
    "with open(__depends__[0], \"r\") as fh:\n",
    "    data = json.load(fh)\n",
    "data[0]"
   ]
  },
  {
   "cell_type": "code",
   "execution_count": 4,
   "metadata": {
    "collapsed": false,
    "scrolled": true
   },
   "outputs": [
    {
     "data": {
      "text/html": [
       "<div>\n",
       "<style scoped>\n",
       "    .dataframe tbody tr th:only-of-type {\n",
       "        vertical-align: middle;\n",
       "    }\n",
       "\n",
       "    .dataframe tbody tr th {\n",
       "        vertical-align: top;\n",
       "    }\n",
       "\n",
       "    .dataframe thead th {\n",
       "        text-align: right;\n",
       "    }\n",
       "</style>\n",
       "<table border=\"1\" class=\"dataframe\">\n",
       "  <thead>\n",
       "    <tr style=\"text-align: right;\">\n",
       "      <th></th>\n",
       "      <th></th>\n",
       "      <th>rt</th>\n",
       "      <th>timestamp</th>\n",
       "      <th>trial</th>\n",
       "      <th>x</th>\n",
       "      <th>y</th>\n",
       "    </tr>\n",
       "    <tr>\n",
       "      <th>participant</th>\n",
       "      <th>stimulus</th>\n",
       "      <th></th>\n",
       "      <th></th>\n",
       "      <th></th>\n",
       "      <th></th>\n",
       "      <th></th>\n",
       "    </tr>\n",
       "  </thead>\n",
       "  <tbody>\n",
       "    <tr>\n",
       "      <th rowspan=\"5\" valign=\"top\">0</th>\n",
       "      <th>0</th>\n",
       "      <td>712.311705</td>\n",
       "      <td>2016-07-13 00:37:56.981191</td>\n",
       "      <td>33</td>\n",
       "      <td>0.000000</td>\n",
       "      <td>0.033065</td>\n",
       "    </tr>\n",
       "    <tr>\n",
       "      <th>1</th>\n",
       "      <td>494.589488</td>\n",
       "      <td>2016-07-13 00:37:56.981200</td>\n",
       "      <td>4</td>\n",
       "      <td>0.028571</td>\n",
       "      <td>0.004840</td>\n",
       "    </tr>\n",
       "    <tr>\n",
       "      <th>2</th>\n",
       "      <td>431.101076</td>\n",
       "      <td>2016-07-13 00:37:56.981202</td>\n",
       "      <td>12</td>\n",
       "      <td>0.057143</td>\n",
       "      <td>0.006987</td>\n",
       "    </tr>\n",
       "    <tr>\n",
       "      <th>3</th>\n",
       "      <td>606.345633</td>\n",
       "      <td>2016-07-13 00:37:56.981204</td>\n",
       "      <td>15</td>\n",
       "      <td>0.085714</td>\n",
       "      <td>0.005401</td>\n",
       "    </tr>\n",
       "    <tr>\n",
       "      <th>4</th>\n",
       "      <td>919.631913</td>\n",
       "      <td>2016-07-13 00:37:56.981205</td>\n",
       "      <td>24</td>\n",
       "      <td>0.114286</td>\n",
       "      <td>0.047801</td>\n",
       "    </tr>\n",
       "  </tbody>\n",
       "</table>\n",
       "</div>"
      ],
      "text/plain": [
       "                              rt                  timestamp  trial         x  \\\n",
       "participant stimulus                                                           \n",
       "0           0         712.311705 2016-07-13 00:37:56.981191     33  0.000000   \n",
       "            1         494.589488 2016-07-13 00:37:56.981200      4  0.028571   \n",
       "            2         431.101076 2016-07-13 00:37:56.981202     12  0.057143   \n",
       "            3         606.345633 2016-07-13 00:37:56.981204     15  0.085714   \n",
       "            4         919.631913 2016-07-13 00:37:56.981205     24  0.114286   \n",
       "\n",
       "                             y  \n",
       "participant stimulus            \n",
       "0           0         0.033065  \n",
       "            1         0.004840  \n",
       "            2         0.006987  \n",
       "            3         0.005401  \n",
       "            4         0.047801  "
      ]
     },
     "execution_count": 4,
     "metadata": {},
     "output_type": "execute_result"
    }
   ],
   "source": [
    "# Convert it to a pandas DataFrame\n",
    "df = pd.DataFrame(data).set_index([\"participant\", \"stimulus\"]).sort_index()\n",
    "df['timestamp'] = df['timestamp'].apply(datetime.datetime.fromtimestamp)\n",
    "df.head()"
   ]
  },
  {
   "cell_type": "code",
   "execution_count": 5,
   "metadata": {
    "collapsed": false
   },
   "outputs": [],
   "source": [
    "# Save it to CSV\n",
    "if not os.path.exists(os.path.dirname(__dest__)):\n",
    "    os.makedirs(os.path.dirname(__dest__))\n",
    "df.to_csv(__dest__)"
   ]
  }
 ],
 "metadata": {
  "kernelspec": {
   "display_name": "Python 3",
   "language": "python",
   "name": "python3"
  },
  "language_info": {
   "codemirror_mode": {
    "name": "ipython",
    "version": 3
   },
   "file_extension": ".py",
   "mimetype": "text/x-python",
   "name": "python",
   "nbconvert_exporter": "python",
   "pygments_lexer": "ipython3",
   "version": "3.6.8"
  }
 },
 "nbformat": 4,
 "nbformat_minor": 0
}
